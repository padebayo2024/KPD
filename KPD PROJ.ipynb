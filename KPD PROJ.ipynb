{
 "cells": [
  {
   "cell_type": "code",
   "execution_count": 1,
   "id": "aa553a90",
   "metadata": {},
   "outputs": [
    {
     "name": "stdout",
     "output_type": "stream",
     "text": [
      "Requirement already satisfied: pip in ./opt/anaconda3/lib/python3.9/site-packages (24.3.1)\r\n"
     ]
    }
   ],
   "source": [
    "#Upgrade pip if necessary\n",
    "!pip install --upgrade pip"
   ]
  },
  {
   "cell_type": "code",
   "execution_count": 10,
   "id": "f896ddef-927f-462c-9c23-677769a6f671",
   "metadata": {},
   "outputs": [
    {
     "name": "stdout",
     "output_type": "stream",
     "text": [
      "Data Loaded Successfully!\n",
      "[{'Recipient': 'B', 'Donor': ['A', 'AB']}, {'Recipient': 'A', 'Donor': ['B', 'AB']}, {'Recipient': 'B', 'Donor': ['AB']}, {'Recipient': 'A', 'Donor': ['AB']}, {'Recipient': 'A', 'Donor': ['B', 'AB']}, {'Recipient': 'B', 'Donor': ['A', 'AB']}, {'Recipient': 'B', 'Donor': ['A', 'AB']}, {'Recipient': 'O', 'Donor': ['A', 'B', 'AB']}, {'Recipient': 'O', 'Donor': ['A', 'B', 'AB']}, {'Recipient': 'A', 'Donor': ['B', 'AB']}, {'Recipient': 'B', 'Donor': ['AB']}, {'Recipient': 'O', 'Donor': ['B', 'AB']}, {'Recipient': 'B', 'Donor': ['A', 'AB']}, {'Recipient': 'A', 'Donor': ['B', 'AB']}, {'Recipient': 'B', 'Donor': ['AB']}, {'Recipient': 'A', 'Donor': ['B', 'AB']}, {'Recipient': 'B', 'Donor': ['A', 'AB']}, {'Recipient': 'O', 'Donor': ['A', 'B', 'AB']}, {'Recipient': 'O', 'Donor': ['A', 'AB']}, {'Recipient': 'A', 'Donor': ['B']}, {'Recipient': 'O', 'Donor': ['A', 'AB']}, {'Recipient': 'O', 'Donor': ['A', 'AB']}, {'Recipient': 'O', 'Donor': ['A', 'B']}, {'Recipient': 'B', 'Donor': ['A', 'AB']}, {'Recipient': 'B', 'Donor': ['A', 'AB']}, {'Recipient': 'A', 'Donor': ['B', 'AB']}, {'Recipient': 'A', 'Donor': ['B']}, {'Recipient': 'A', 'Donor': ['B', 'AB']}, {'Recipient': 'B', 'Donor': ['A', 'AB']}, {'Recipient': 'B', 'Donor': ['AB']}, {'Recipient': 'B', 'Donor': ['AB']}, {'Recipient': 'B', 'Donor': ['A', 'AB']}, {'Recipient': 'O', 'Donor': ['A', 'B']}, {'Recipient': 'B', 'Donor': ['A', 'AB']}, {'Recipient': 'B', 'Donor': ['A', 'AB']}, {'Recipient': 'B', 'Donor': ['A', 'AB']}, {'Recipient': 'B', 'Donor': ['A', 'AB']}, {'Recipient': 'O', 'Donor': ['A', 'AB']}, {'Recipient': 'B', 'Donor': ['AB']}, {'Recipient': 'B', 'Donor': ['A', 'AB']}, {'Recipient': 'B', 'Donor': ['A']}, {'Recipient': 'B', 'Donor': ['A', 'AB']}, {'Recipient': 'A', 'Donor': ['AB']}, {'Recipient': 'O', 'Donor': ['A', 'B', 'AB']}, {'Recipient': 'A', 'Donor': ['B', 'AB']}, {'Recipient': 'B', 'Donor': ['AB']}, {'Recipient': 'O', 'Donor': ['B', 'AB']}, {'Recipient': 'A', 'Donor': ['B', 'AB']}, {'Recipient': 'B', 'Donor': ['A', 'AB']}, {'Recipient': 'B', 'Donor': ['AB']}, {'Recipient': 'A', 'Donor': ['B']}, {'Recipient': 'A', 'Donor': ['AB']}, {'Recipient': 'B', 'Donor': ['A']}, {'Recipient': 'A', 'Donor': ['B']}, {'Recipient': 'A', 'Donor': ['B', 'AB']}, {'Recipient': 'B', 'Donor': ['AB']}, {'Recipient': 'O', 'Donor': ['A', 'B', 'AB']}, {'Recipient': 'B', 'Donor': ['A', 'AB']}, {'Recipient': 'O', 'Donor': ['A', 'B']}, {'Recipient': 'O', 'Donor': ['A', 'B']}, {'Recipient': 'A', 'Donor': ['B', 'AB']}, {'Recipient': 'B', 'Donor': ['A', 'AB']}, {'Recipient': 'B', 'Donor': ['A', 'AB']}, {'Recipient': 'B', 'Donor': ['A', 'AB']}, {'Recipient': 'B', 'Donor': ['A']}, {'Recipient': 'A', 'Donor': ['B', 'AB']}, {'Recipient': 'B', 'Donor': ['AB']}, {'Recipient': 'A', 'Donor': ['B', 'AB']}, {'Recipient': 'O', 'Donor': ['A', 'B', 'AB']}, {'Recipient': 'O', 'Donor': ['B', 'AB']}, {'Recipient': 'O', 'Donor': ['A', 'B']}, {'Recipient': 'A', 'Donor': ['B']}, {'Recipient': 'A', 'Donor': ['AB']}, {'Recipient': 'A', 'Donor': ['B', 'AB']}, {'Recipient': 'B', 'Donor': ['AB']}, {'Recipient': 'A', 'Donor': ['B', 'AB']}, {'Recipient': 'O', 'Donor': ['A', 'B', 'AB']}, {'Recipient': 'B', 'Donor': ['A', 'AB']}, {'Recipient': 'O', 'Donor': ['A', 'AB']}, {'Recipient': 'O', 'Donor': ['A', 'B', 'AB']}, {'Recipient': 'A', 'Donor': ['B', 'AB']}, {'Recipient': 'O', 'Donor': ['A', 'B', 'AB']}, {'Recipient': 'A', 'Donor': ['B', 'AB']}, {'Recipient': 'B', 'Donor': ['A']}, {'Recipient': 'A', 'Donor': ['B']}, {'Recipient': 'A', 'Donor': ['AB']}, {'Recipient': 'B', 'Donor': ['A', 'AB']}, {'Recipient': 'O', 'Donor': ['A', 'B', 'AB']}, {'Recipient': 'A', 'Donor': ['B', 'AB']}, {'Recipient': 'B', 'Donor': ['AB']}, {'Recipient': 'B', 'Donor': ['AB']}, {'Recipient': 'B', 'Donor': ['A']}, {'Recipient': 'B', 'Donor': ['A', 'AB']}, {'Recipient': 'B', 'Donor': ['AB']}, {'Recipient': 'A', 'Donor': ['B', 'AB']}, {'Recipient': 'B', 'Donor': ['A', 'AB']}, {'Recipient': 'A', 'Donor': ['B', 'AB']}, {'Recipient': 'A', 'Donor': ['B']}, {'Recipient': 'O', 'Donor': ['A', 'B']}, {'Recipient': 'O', 'Donor': ['A', 'AB']}, {'Recipient': 'B', 'Donor': ['A', 'AB']}, {'Recipient': 'O', 'Donor': ['A', 'AB']}, {'Recipient': 'A', 'Donor': ['B', 'AB']}, {'Recipient': 'A', 'Donor': ['B', 'AB']}, {'Recipient': 'B', 'Donor': ['AB']}, {'Recipient': 'O', 'Donor': ['AB']}, {'Recipient': 'O', 'Donor': ['A', 'B']}, {'Recipient': 'O', 'Donor': ['A', 'B', 'AB']}, {'Recipient': 'O', 'Donor': ['A', 'AB']}, {'Recipient': 'B', 'Donor': ['AB']}, {'Recipient': 'A', 'Donor': ['B']}, {'Recipient': 'A', 'Donor': ['B']}, {'Recipient': 'A', 'Donor': ['AB']}, {'Recipient': 'A', 'Donor': ['B']}, {'Recipient': 'A', 'Donor': ['B', 'AB']}, {'Recipient': 'O', 'Donor': ['A', 'B', 'AB']}, {'Recipient': 'B', 'Donor': ['A', 'AB']}, {'Recipient': 'B', 'Donor': ['A', 'AB']}, {'Recipient': 'O', 'Donor': ['B', 'AB']}, {'Recipient': 'A', 'Donor': ['B']}, {'Recipient': 'A', 'Donor': ['B', 'AB']}, {'Recipient': 'O', 'Donor': ['A', 'B', 'AB']}, {'Recipient': 'A', 'Donor': ['B']}, {'Recipient': 'B', 'Donor': ['A', 'AB']}, {'Recipient': 'B', 'Donor': ['A']}, {'Recipient': 'A', 'Donor': ['AB']}, {'Recipient': 'O', 'Donor': ['B', 'AB']}, {'Recipient': 'B', 'Donor': ['AB']}, {'Recipient': 'A', 'Donor': ['B', 'AB']}, {'Recipient': 'B', 'Donor': ['AB']}, {'Recipient': 'B', 'Donor': ['A', 'AB']}, {'Recipient': 'O', 'Donor': ['A', 'B']}, {'Recipient': 'A', 'Donor': ['B', 'AB']}, {'Recipient': 'A', 'Donor': ['B', 'AB']}, {'Recipient': 'B', 'Donor': ['A', 'AB']}, {'Recipient': 'B', 'Donor': ['A', 'AB']}, {'Recipient': 'O', 'Donor': ['AB']}, {'Recipient': 'O', 'Donor': ['A', 'B']}, {'Recipient': 'A', 'Donor': ['B', 'AB']}, {'Recipient': 'A', 'Donor': ['B', 'AB']}, {'Recipient': 'O', 'Donor': ['A', 'B']}, {'Recipient': 'O', 'Donor': ['A', 'AB']}, {'Recipient': 'A', 'Donor': ['B', 'AB']}, {'Recipient': 'B', 'Donor': ['AB']}, {'Recipient': 'A', 'Donor': ['B', 'AB']}, {'Recipient': 'O', 'Donor': ['B']}, {'Recipient': 'B', 'Donor': ['A', 'AB']}, {'Recipient': 'B', 'Donor': ['A']}, {'Recipient': 'A', 'Donor': ['B', 'AB']}, {'Recipient': 'A', 'Donor': ['B', 'AB']}, {'Recipient': 'O', 'Donor': ['A', 'B', 'AB']}, {'Recipient': 'O', 'Donor': ['B', 'AB']}, {'Recipient': 'B', 'Donor': ['A', 'AB']}, {'Recipient': 'B', 'Donor': ['A']}, {'Recipient': 'A', 'Donor': ['B', 'AB']}, {'Recipient': 'O', 'Donor': ['A', 'B', 'AB']}, {'Recipient': 'O', 'Donor': ['A', 'AB']}, {'Recipient': 'B', 'Donor': ['A', 'AB']}, {'Recipient': 'O', 'Donor': ['A', 'AB']}, {'Recipient': 'B', 'Donor': ['AB']}, {'Recipient': 'B', 'Donor': ['A', 'AB']}, {'Recipient': 'B', 'Donor': ['A', 'AB']}, {'Recipient': 'A', 'Donor': ['B', 'AB']}, {'Recipient': 'A', 'Donor': ['AB']}, {'Recipient': 'A', 'Donor': ['AB']}, {'Recipient': 'A', 'Donor': ['AB']}, {'Recipient': 'O', 'Donor': ['A', 'AB']}, {'Recipient': 'O', 'Donor': ['A', 'AB']}, {'Recipient': 'A', 'Donor': ['B']}, {'Recipient': 'B', 'Donor': ['A', 'AB']}, {'Recipient': 'B', 'Donor': ['AB']}, {'Recipient': 'A', 'Donor': ['B', 'AB']}, {'Recipient': 'A', 'Donor': ['B', 'AB']}, {'Recipient': 'A', 'Donor': ['B']}, {'Recipient': 'O', 'Donor': ['A', 'AB']}, {'Recipient': 'B', 'Donor': ['A', 'AB']}, {'Recipient': 'B', 'Donor': ['A']}, {'Recipient': 'B', 'Donor': ['A']}, {'Recipient': 'O', 'Donor': ['B', 'AB']}, {'Recipient': 'O', 'Donor': ['A', 'B', 'AB']}, {'Recipient': 'B', 'Donor': ['A']}, {'Recipient': 'A', 'Donor': ['AB']}, {'Recipient': 'O', 'Donor': ['A', 'B', 'AB']}, {'Recipient': 'O', 'Donor': ['B', 'AB']}, {'Recipient': 'A', 'Donor': ['B', 'AB']}, {'Recipient': 'O', 'Donor': ['B', 'AB']}, {'Recipient': 'A', 'Donor': ['B']}, {'Recipient': 'A', 'Donor': ['B', 'AB']}, {'Recipient': 'B', 'Donor': ['A']}, {'Recipient': 'A', 'Donor': ['B']}, {'Recipient': 'B', 'Donor': ['AB']}, {'Recipient': 'B', 'Donor': ['A', 'AB']}, {'Recipient': 'O', 'Donor': ['A', 'B', 'AB']}, {'Recipient': 'A', 'Donor': ['B', 'AB']}, {'Recipient': 'O', 'Donor': ['A', 'B', 'AB']}, {'Recipient': 'A', 'Donor': ['B']}, {'Recipient': 'O', 'Donor': ['A', 'B', 'AB']}, {'Recipient': 'B', 'Donor': ['A', 'AB']}, {'Recipient': 'B', 'Donor': ['A', 'AB']}, {'Recipient': 'O', 'Donor': ['A', 'B']}, {'Recipient': 'A', 'Donor': ['AB']}, {'Recipient': 'B', 'Donor': ['A']}, {'Recipient': 'A', 'Donor': ['AB']}, {'Recipient': 'O', 'Donor': ['B', 'AB']}, {'Recipient': 'B', 'Donor': ['AB']}, {'Recipient': 'O', 'Donor': ['B', 'AB']}, {'Recipient': 'B', 'Donor': ['A']}, {'Recipient': 'O', 'Donor': ['A', 'B']}, {'Recipient': 'O', 'Donor': ['A', 'B']}, {'Recipient': 'A', 'Donor': ['B', 'AB']}, {'Recipient': 'B', 'Donor': ['AB']}, {'Recipient': 'B', 'Donor': ['A', 'AB']}, {'Recipient': 'O', 'Donor': ['A', 'B']}, {'Recipient': 'A', 'Donor': ['B']}, {'Recipient': 'O', 'Donor': ['A', 'B']}, {'Recipient': 'B', 'Donor': ['A', 'AB']}, {'Recipient': 'A', 'Donor': ['AB']}, {'Recipient': 'O', 'Donor': ['A', 'B', 'AB']}, {'Recipient': 'B', 'Donor': ['AB']}, {'Recipient': 'O', 'Donor': ['A', 'B']}, {'Recipient': 'B', 'Donor': ['AB']}, {'Recipient': 'B', 'Donor': ['AB']}, {'Recipient': 'A', 'Donor': ['B', 'AB']}, {'Recipient': 'A', 'Donor': ['B', 'AB']}, {'Recipient': 'B', 'Donor': ['A', 'AB']}, {'Recipient': 'B', 'Donor': ['A', 'AB']}, {'Recipient': 'B', 'Donor': ['A', 'AB']}, {'Recipient': 'A', 'Donor': ['AB']}, {'Recipient': 'A', 'Donor': ['B', 'AB']}, {'Recipient': 'B', 'Donor': ['A', 'AB']}, {'Recipient': 'A', 'Donor': ['B']}, {'Recipient': 'O', 'Donor': ['B', 'AB']}, {'Recipient': 'A', 'Donor': ['B', 'AB']}, {'Recipient': 'B', 'Donor': ['A', 'AB']}, {'Recipient': 'B', 'Donor': ['A', 'AB']}, {'Recipient': 'A', 'Donor': ['B', 'AB']}, {'Recipient': 'O', 'Donor': ['B', 'AB']}, {'Recipient': 'O', 'Donor': ['A', 'B', 'AB']}, {'Recipient': 'O', 'Donor': ['A', 'B', 'AB']}, {'Recipient': 'O', 'Donor': ['A', 'B', 'AB']}, {'Recipient': 'B', 'Donor': ['A']}, {'Recipient': 'A', 'Donor': ['B']}, {'Recipient': 'B', 'Donor': ['A', 'AB']}, {'Recipient': 'A', 'Donor': ['B', 'AB']}, {'Recipient': 'B', 'Donor': ['A']}, {'Recipient': 'B', 'Donor': ['A', 'AB']}, {'Recipient': 'A', 'Donor': ['B', 'AB']}, {'Recipient': 'A', 'Donor': ['AB']}, {'Recipient': 'O', 'Donor': ['A', 'B', 'AB']}, {'Recipient': 'A', 'Donor': ['B']}, {'Recipient': 'B', 'Donor': ['A', 'AB']}, {'Recipient': 'B', 'Donor': ['A', 'AB']}, {'Recipient': 'B', 'Donor': ['A', 'AB']}, {'Recipient': 'O', 'Donor': ['B', 'AB']}, {'Recipient': 'B', 'Donor': ['AB']}, {'Recipient': 'A', 'Donor': ['B', 'AB']}, {'Recipient': 'A', 'Donor': ['AB']}, {'Recipient': 'A', 'Donor': ['B', 'AB']}, {'Recipient': 'B', 'Donor': ['A', 'AB']}, {'Recipient': 'O', 'Donor': ['A', 'AB']}, {'Recipient': 'B', 'Donor': ['A', 'AB']}, {'Recipient': 'A', 'Donor': ['B', 'AB']}, {'Recipient': 'A', 'Donor': ['AB']}, {'Recipient': 'A', 'Donor': ['AB']}, {'Recipient': 'O', 'Donor': ['B']}, {'Recipient': 'O', 'Donor': ['A', 'AB']}, {'Recipient': 'O', 'Donor': ['AB']}, {'Recipient': 'B', 'Donor': ['A', 'AB']}, {'Recipient': 'O', 'Donor': ['B', 'AB']}, {'Recipient': 'B', 'Donor': ['A']}, {'Recipient': 'B', 'Donor': ['A', 'AB']}, {'Recipient': 'B', 'Donor': ['A', 'AB']}, {'Recipient': 'A', 'Donor': ['B', 'AB']}, {'Recipient': 'O', 'Donor': ['B', 'AB']}, {'Recipient': 'O', 'Donor': ['A', 'B', 'AB']}, {'Recipient': 'B', 'Donor': ['AB']}, {'Recipient': 'O', 'Donor': ['A', 'B']}, {'Recipient': 'A', 'Donor': ['B', 'AB']}, {'Recipient': 'A', 'Donor': ['B', 'AB']}, {'Recipient': 'O', 'Donor': ['A', 'B', 'AB']}, {'Recipient': 'A', 'Donor': ['B', 'AB']}, {'Recipient': 'B', 'Donor': ['A', 'AB']}, {'Recipient': 'A', 'Donor': ['B', 'AB']}, {'Recipient': 'O', 'Donor': ['A', 'B', 'AB']}, {'Recipient': 'O', 'Donor': ['A', 'AB']}, {'Recipient': 'B', 'Donor': ['A', 'AB']}, {'Recipient': 'O', 'Donor': ['B', 'AB']}, {'Recipient': 'A', 'Donor': ['B', 'AB']}, {'Recipient': 'O', 'Donor': ['B', 'AB']}, {'Recipient': 'O', 'Donor': ['A', 'B']}, {'Recipient': 'B', 'Donor': ['A', 'AB']}, {'Recipient': 'O', 'Donor': ['A', 'B']}, {'Recipient': 'B', 'Donor': ['AB']}, {'Recipient': 'B', 'Donor': ['A', 'AB']}, {'Recipient': 'O', 'Donor': ['B', 'AB']}, {'Recipient': 'B', 'Donor': ['A', 'AB']}, {'Recipient': 'O', 'Donor': ['B', 'AB']}, {'Recipient': 'A', 'Donor': ['B', 'AB']}, {'Recipient': 'O', 'Donor': ['A', 'B', 'AB']}, {'Recipient': 'B', 'Donor': ['A']}, {'Recipient': 'B', 'Donor': ['A', 'AB']}, {'Recipient': 'O', 'Donor': ['A', 'B']}, {'Recipient': 'A', 'Donor': ['B', 'AB']}, {'Recipient': 'B', 'Donor': ['A']}, {'Recipient': 'O', 'Donor': ['A', 'B']}, {'Recipient': 'O', 'Donor': ['B', 'AB']}, {'Recipient': 'A', 'Donor': ['B', 'AB']}, {'Recipient': 'B', 'Donor': ['AB']}, {'Recipient': 'B', 'Donor': ['A']}, {'Recipient': 'O', 'Donor': ['A', 'B', 'AB']}, {'Recipient': 'B', 'Donor': ['AB']}, {'Recipient': 'A', 'Donor': ['B', 'AB']}, {'Recipient': 'O', 'Donor': ['A', 'AB']}, {'Recipient': 'O', 'Donor': ['A', 'B', 'AB']}, {'Recipient': 'O', 'Donor': ['A', 'B', 'AB']}, {'Recipient': 'A', 'Donor': ['AB']}, {'Recipient': 'A', 'Donor': ['B', 'AB']}, {'Recipient': 'A', 'Donor': ['B', 'AB']}, {'Recipient': 'O', 'Donor': ['A', 'AB']}, {'Recipient': 'A', 'Donor': ['B', 'AB']}, {'Recipient': 'A', 'Donor': ['B', 'AB']}, {'Recipient': 'O', 'Donor': ['A', 'B']}, {'Recipient': 'O', 'Donor': ['A', 'AB']}, {'Recipient': 'O', 'Donor': ['A', 'AB']}, {'Recipient': 'A', 'Donor': ['AB']}, {'Recipient': 'B', 'Donor': ['AB']}, {'Recipient': 'O', 'Donor': ['A', 'B', 'AB']}, {'Recipient': 'A', 'Donor': ['B', 'AB']}, {'Recipient': 'A', 'Donor': ['B']}, {'Recipient': 'O', 'Donor': ['A', 'B', 'AB']}, {'Recipient': 'A', 'Donor': ['B']}, {'Recipient': 'A', 'Donor': ['B', 'AB']}, {'Recipient': 'B', 'Donor': ['A', 'AB']}, {'Recipient': 'A', 'Donor': ['B', 'AB']}, {'Recipient': 'B', 'Donor': ['A']}, {'Recipient': 'O', 'Donor': ['B']}, {'Recipient': 'O', 'Donor': ['A', 'B', 'AB']}, {'Recipient': 'A', 'Donor': ['AB']}, {'Recipient': 'A', 'Donor': ['B', 'AB']}, {'Recipient': 'A', 'Donor': ['B', 'AB']}, {'Recipient': 'O', 'Donor': ['A', 'B', 'AB']}, {'Recipient': 'A', 'Donor': ['AB']}, {'Recipient': 'A', 'Donor': ['B', 'AB']}, {'Recipient': 'A', 'Donor': ['B', 'AB']}, {'Recipient': 'A', 'Donor': ['B', 'AB']}, {'Recipient': 'A', 'Donor': ['B']}, {'Recipient': 'A', 'Donor': ['B']}, {'Recipient': 'A', 'Donor': ['B', 'AB']}, {'Recipient': 'O', 'Donor': ['A', 'B', 'AB']}, {'Recipient': 'O', 'Donor': ['A', 'AB']}, {'Recipient': 'B', 'Donor': ['A', 'AB']}, {'Recipient': 'A', 'Donor': ['AB']}, {'Recipient': 'A', 'Donor': ['AB']}, {'Recipient': 'B', 'Donor': ['AB']}, {'Recipient': 'B', 'Donor': ['A']}, {'Recipient': 'A', 'Donor': ['AB']}, {'Recipient': 'O', 'Donor': ['A', 'B', 'AB']}, {'Recipient': 'A', 'Donor': ['B', 'AB']}, {'Recipient': 'A', 'Donor': ['B', 'AB']}, {'Recipient': 'A', 'Donor': ['B', 'AB']}, {'Recipient': 'O', 'Donor': ['A', 'AB']}, {'Recipient': 'A', 'Donor': ['B', 'AB']}, {'Recipient': 'O', 'Donor': ['A', 'B', 'AB']}, {'Recipient': 'A', 'Donor': ['B']}, {'Recipient': 'A', 'Donor': ['B', 'AB']}, {'Recipient': 'O', 'Donor': ['A', 'AB']}, {'Recipient': 'A', 'Donor': ['B', 'AB']}, {'Recipient': 'O', 'Donor': ['B', 'AB']}, {'Recipient': 'B', 'Donor': ['A', 'AB']}, {'Recipient': 'O', 'Donor': ['A', 'B', 'AB']}, {'Recipient': 'B', 'Donor': ['A']}, {'Recipient': 'B', 'Donor': ['A', 'AB']}, {'Recipient': 'A', 'Donor': ['B', 'AB']}, {'Recipient': 'A', 'Donor': ['B', 'AB']}, {'Recipient': 'B', 'Donor': ['A']}, {'Recipient': 'B', 'Donor': ['A', 'AB']}, {'Recipient': 'A', 'Donor': ['B', 'AB']}, {'Recipient': 'A', 'Donor': ['B', 'AB']}, {'Recipient': 'O', 'Donor': ['A', 'B', 'AB']}, {'Recipient': 'O', 'Donor': ['A', 'B', 'AB']}, {'Recipient': 'O', 'Donor': ['A', 'B']}, {'Recipient': 'O', 'Donor': ['B', 'AB']}, {'Recipient': 'B', 'Donor': ['A', 'AB']}, {'Recipient': 'A', 'Donor': ['AB']}, {'Recipient': 'O', 'Donor': ['A', 'B', 'AB']}, {'Recipient': 'B', 'Donor': ['A', 'AB']}, {'Recipient': 'O', 'Donor': ['A']}, {'Recipient': 'A', 'Donor': ['B', 'AB']}, {'Recipient': 'B', 'Donor': ['AB']}, {'Recipient': 'B', 'Donor': ['A', 'AB']}, {'Recipient': 'O', 'Donor': ['A', 'B', 'AB']}, {'Recipient': 'A', 'Donor': ['B']}, {'Recipient': 'B', 'Donor': ['AB']}, {'Recipient': 'A', 'Donor': ['B', 'AB']}, {'Recipient': 'O', 'Donor': ['A', 'B', 'AB']}, {'Recipient': 'B', 'Donor': ['A']}, {'Recipient': 'A', 'Donor': ['AB']}, {'Recipient': 'A', 'Donor': ['B', 'AB']}, {'Recipient': 'O', 'Donor': ['A', 'B', 'AB']}, {'Recipient': 'O', 'Donor': ['A', 'B', 'AB']}, {'Recipient': 'A', 'Donor': ['B', 'AB']}, {'Recipient': 'O', 'Donor': ['A', 'B']}, {'Recipient': 'B', 'Donor': ['A', 'AB']}, {'Recipient': 'O', 'Donor': ['A', 'B', 'AB']}, {'Recipient': 'O', 'Donor': ['A', 'AB']}, {'Recipient': 'O', 'Donor': ['B', 'AB']}, {'Recipient': 'B', 'Donor': ['A', 'AB']}, {'Recipient': 'B', 'Donor': ['A', 'AB']}, {'Recipient': 'A', 'Donor': ['B', 'AB']}, {'Recipient': 'O', 'Donor': ['A', 'B', 'AB']}, {'Recipient': 'O', 'Donor': ['B', 'AB']}, {'Recipient': 'O', 'Donor': ['A', 'B', 'AB']}, {'Recipient': 'B', 'Donor': ['AB']}, {'Recipient': 'A', 'Donor': ['B']}, {'Recipient': 'B', 'Donor': ['AB']}, {'Recipient': 'A', 'Donor': ['B', 'AB']}, {'Recipient': 'A', 'Donor': ['AB']}, {'Recipient': 'A', 'Donor': ['B', 'AB']}, {'Recipient': 'A', 'Donor': ['B', 'AB']}, {'Recipient': 'B', 'Donor': ['AB']}, {'Recipient': 'O', 'Donor': ['A', 'B', 'AB']}, {'Recipient': 'B', 'Donor': ['A', 'AB']}, {'Recipient': 'A', 'Donor': ['B', 'AB']}, {'Recipient': 'B', 'Donor': ['A', 'AB']}, {'Recipient': 'O', 'Donor': ['A', 'B', 'AB']}, {'Recipient': 'B', 'Donor': ['AB']}, {'Recipient': 'B', 'Donor': ['AB']}, {'Recipient': 'A', 'Donor': ['B', 'AB']}, {'Recipient': 'A', 'Donor': ['B', 'AB']}, {'Recipient': 'O', 'Donor': ['A', 'B', 'AB']}, {'Recipient': 'O', 'Donor': ['AB']}, {'Recipient': 'B', 'Donor': ['A', 'AB']}, {'Recipient': 'B', 'Donor': ['A', 'AB']}, {'Recipient': 'O', 'Donor': ['A', 'B', 'AB']}, {'Recipient': 'A', 'Donor': ['B']}, {'Recipient': 'A', 'Donor': ['B', 'AB']}, {'Recipient': 'B', 'Donor': ['A', 'AB']}, {'Recipient': 'O', 'Donor': ['B', 'AB']}, {'Recipient': 'B', 'Donor': ['A', 'AB']}, {'Recipient': 'O', 'Donor': ['A', 'B', 'AB']}, {'Recipient': 'A', 'Donor': ['AB']}, {'Recipient': 'B', 'Donor': ['A']}, {'Recipient': 'A', 'Donor': ['B', 'AB']}, {'Recipient': 'O', 'Donor': ['A', 'B', 'AB']}, {'Recipient': 'O', 'Donor': ['A', 'B', 'AB']}, {'Recipient': 'O', 'Donor': ['A', 'AB']}, {'Recipient': 'A', 'Donor': ['B']}, {'Recipient': 'O', 'Donor': ['B', 'AB']}, {'Recipient': 'A', 'Donor': ['B', 'AB']}, {'Recipient': 'B', 'Donor': ['A', 'AB']}, {'Recipient': 'A', 'Donor': ['B', 'AB']}, {'Recipient': 'O', 'Donor': ['A', 'B', 'AB']}, {'Recipient': 'O', 'Donor': ['B']}, {'Recipient': 'A', 'Donor': ['B', 'AB']}, {'Recipient': 'B', 'Donor': ['A']}, {'Recipient': 'O', 'Donor': ['A', 'B']}, {'Recipient': 'A', 'Donor': ['B', 'AB']}, {'Recipient': 'B', 'Donor': ['A']}, {'Recipient': 'B', 'Donor': ['A', 'AB']}, {'Recipient': 'B', 'Donor': ['AB']}, {'Recipient': 'A', 'Donor': ['B', 'AB']}, {'Recipient': 'O', 'Donor': ['A', 'AB']}, {'Recipient': 'B', 'Donor': ['AB']}, {'Recipient': 'O', 'Donor': ['A', 'AB']}, {'Recipient': 'A', 'Donor': ['B', 'AB']}, {'Recipient': 'B', 'Donor': ['A']}, {'Recipient': 'A', 'Donor': ['B', 'AB']}, {'Recipient': 'A', 'Donor': ['B']}, {'Recipient': 'A', 'Donor': ['B', 'AB']}, {'Recipient': 'O', 'Donor': ['A', 'B']}, {'Recipient': 'B', 'Donor': ['A']}, {'Recipient': 'A', 'Donor': ['B']}, {'Recipient': 'A', 'Donor': ['B']}, {'Recipient': 'B', 'Donor': ['A', 'AB']}, {'Recipient': 'A', 'Donor': ['B', 'AB']}, {'Recipient': 'B', 'Donor': ['A']}, {'Recipient': 'A', 'Donor': ['AB']}, {'Recipient': 'O', 'Donor': ['A', 'B', 'AB']}, {'Recipient': 'O', 'Donor': ['A', 'AB']}, {'Recipient': 'B', 'Donor': ['AB']}, {'Recipient': 'B', 'Donor': ['A', 'AB']}, {'Recipient': 'B', 'Donor': ['A', 'AB']}, {'Recipient': 'A', 'Donor': ['B', 'AB']}, {'Recipient': 'A', 'Donor': ['B', 'AB']}, {'Recipient': 'B', 'Donor': ['A']}, {'Recipient': 'O', 'Donor': ['A', 'B', 'AB']}, {'Recipient': 'B', 'Donor': ['A']}, {'Recipient': 'A', 'Donor': ['B']}, {'Recipient': 'O', 'Donor': ['A', 'B', 'AB']}, {'Recipient': 'A', 'Donor': ['B', 'AB']}, {'Recipient': 'O', 'Donor': ['A', 'AB']}, {'Recipient': 'A', 'Donor': ['B', 'AB']}, {'Recipient': 'A', 'Donor': ['AB']}, {'Recipient': 'B', 'Donor': ['A', 'AB']}, {'Recipient': 'B', 'Donor': ['A', 'AB']}, {'Recipient': 'O', 'Donor': ['A', 'B', 'AB']}, {'Recipient': 'A', 'Donor': ['B', 'AB']}, {'Recipient': 'O', 'Donor': ['A', 'B', 'AB']}, {'Recipient': 'A', 'Donor': ['B', 'AB']}, {'Recipient': 'A', 'Donor': ['AB']}, {'Recipient': 'A', 'Donor': ['B']}, {'Recipient': 'O', 'Donor': ['A', 'B', 'AB']}, {'Recipient': 'B', 'Donor': ['A']}, {'Recipient': 'O', 'Donor': ['B']}, {'Recipient': 'B', 'Donor': ['AB']}, {'Recipient': 'O', 'Donor': ['A', 'B', 'AB']}, {'Recipient': 'B', 'Donor': ['A']}, {'Recipient': 'B', 'Donor': ['A', 'AB']}, {'Recipient': 'A', 'Donor': ['B', 'AB']}, {'Recipient': 'O', 'Donor': ['A', 'B', 'AB']}, {'Recipient': 'A', 'Donor': ['B']}, {'Recipient': 'A', 'Donor': ['AB']}, {'Recipient': 'O', 'Donor': ['A', 'B', 'AB']}, {'Recipient': 'B', 'Donor': ['A', 'AB']}, {'Recipient': 'A', 'Donor': ['B', 'AB']}, {'Recipient': 'A', 'Donor': ['B', 'AB']}, {'Recipient': 'O', 'Donor': ['B', 'AB']}, {'Recipient': 'O', 'Donor': ['A', 'B', 'AB']}, {'Recipient': 'O', 'Donor': ['B', 'AB']}, {'Recipient': 'O', 'Donor': ['AB']}, {'Recipient': 'O', 'Donor': ['A', 'AB']}, {'Recipient': 'O', 'Donor': ['A', 'B']}, {'Recipient': 'B', 'Donor': ['A', 'AB']}, {'Recipient': 'B', 'Donor': ['A']}, {'Recipient': 'B', 'Donor': ['A', 'AB']}, {'Recipient': 'O', 'Donor': ['A', 'B', 'AB']}, {'Recipient': 'B', 'Donor': ['A', 'AB']}, {'Recipient': 'A', 'Donor': ['B', 'AB']}, {'Recipient': 'B', 'Donor': ['A', 'AB']}, {'Recipient': 'B', 'Donor': ['A']}, {'Recipient': 'A', 'Donor': ['B', 'AB']}, {'Recipient': 'O', 'Donor': ['B', 'AB']}, {'Recipient': 'A', 'Donor': ['AB']}, {'Recipient': 'B', 'Donor': ['AB']}, {'Recipient': 'B', 'Donor': ['AB']}, {'Recipient': 'B', 'Donor': ['A', 'AB']}, {'Recipient': 'A', 'Donor': ['B']}, {'Recipient': 'A', 'Donor': ['B', 'AB']}, {'Recipient': 'A', 'Donor': ['AB']}, {'Recipient': 'B', 'Donor': ['A']}, {'Recipient': 'A', 'Donor': ['B']}, {'Recipient': 'O', 'Donor': ['A', 'B']}, {'Recipient': 'B', 'Donor': ['A', 'AB']}, {'Recipient': 'O', 'Donor': ['B', 'AB']}, {'Recipient': 'B', 'Donor': ['A', 'AB']}, {'Recipient': 'O', 'Donor': ['A', 'B', 'AB']}, {'Recipient': 'A', 'Donor': ['B', 'AB']}, {'Recipient': 'B', 'Donor': ['A', 'AB']}, {'Recipient': 'O', 'Donor': ['B', 'AB']}, {'Recipient': 'B', 'Donor': ['A', 'AB']}, {'Recipient': 'A', 'Donor': ['B']}, {'Recipient': 'A', 'Donor': ['B', 'AB']}, {'Recipient': 'B', 'Donor': ['A', 'AB']}, {'Recipient': 'O', 'Donor': ['A', 'B', 'AB']}, {'Recipient': 'O', 'Donor': ['A', 'B', 'AB']}, {'Recipient': 'A', 'Donor': ['B', 'AB']}, {'Recipient': 'B', 'Donor': ['A']}, {'Recipient': 'A', 'Donor': ['AB']}, {'Recipient': 'B', 'Donor': ['A', 'AB']}, {'Recipient': 'O', 'Donor': ['A', 'B', 'AB']}, {'Recipient': 'O', 'Donor': ['A', 'AB']}, {'Recipient': 'A', 'Donor': ['B', 'AB']}, {'Recipient': 'O', 'Donor': ['A', 'B']}, {'Recipient': 'B', 'Donor': ['AB']}, {'Recipient': 'A', 'Donor': ['B', 'AB']}, {'Recipient': 'O', 'Donor': ['A', 'B', 'AB']}, {'Recipient': 'B', 'Donor': ['A']}, {'Recipient': 'A', 'Donor': ['B', 'AB']}, {'Recipient': 'A', 'Donor': ['B', 'AB']}, {'Recipient': 'O', 'Donor': ['A', 'AB']}, {'Recipient': 'O', 'Donor': ['A', 'B']}, {'Recipient': 'B', 'Donor': ['A', 'AB']}, {'Recipient': 'B', 'Donor': ['A']}, {'Recipient': 'A', 'Donor': ['AB']}, {'Recipient': 'O', 'Donor': ['A', 'B', 'AB']}, {'Recipient': 'O', 'Donor': ['A', 'AB']}, {'Recipient': 'O', 'Donor': ['B', 'AB']}, {'Recipient': 'O', 'Donor': ['A', 'B', 'AB']}, {'Recipient': 'A', 'Donor': ['B', 'AB']}, {'Recipient': 'A', 'Donor': ['AB']}, {'Recipient': 'B', 'Donor': ['A', 'AB']}, {'Recipient': 'A', 'Donor': ['B', 'AB']}, {'Recipient': 'A', 'Donor': ['B', 'AB']}, {'Recipient': 'O', 'Donor': ['A', 'B']}, {'Recipient': 'A', 'Donor': ['B', 'AB']}, {'Recipient': 'A', 'Donor': ['B', 'AB']}, {'Recipient': 'A', 'Donor': ['B', 'AB']}, {'Recipient': 'B', 'Donor': ['A', 'AB']}, {'Recipient': 'B', 'Donor': ['A', 'AB']}, {'Recipient': 'B', 'Donor': ['AB']}, {'Recipient': 'A', 'Donor': ['B', 'AB']}, {'Recipient': 'O', 'Donor': ['A', 'B', 'AB']}, {'Recipient': 'A', 'Donor': ['B']}, {'Recipient': 'O', 'Donor': ['A']}, {'Recipient': 'A', 'Donor': ['B', 'AB']}, {'Recipient': 'A', 'Donor': ['B', 'AB']}, {'Recipient': 'B', 'Donor': ['AB']}, {'Recipient': 'A', 'Donor': ['B']}, {'Recipient': 'A', 'Donor': ['B', 'AB']}, {'Recipient': 'A', 'Donor': ['B', 'AB']}, {'Recipient': 'O', 'Donor': ['A', 'B']}, {'Recipient': 'A', 'Donor': ['B', 'AB']}, {'Recipient': 'A', 'Donor': ['B', 'AB']}, {'Recipient': 'B', 'Donor': ['A', 'AB']}, {'Recipient': 'A', 'Donor': ['AB']}, {'Recipient': 'B', 'Donor': ['A', 'AB']}, {'Recipient': 'B', 'Donor': ['A', 'AB']}, {'Recipient': 'O', 'Donor': ['A', 'AB']}, {'Recipient': 'O', 'Donor': ['B', 'AB']}, {'Recipient': 'O', 'Donor': ['A', 'B', 'AB']}, {'Recipient': 'A', 'Donor': ['B', 'AB']}, {'Recipient': 'A', 'Donor': ['B', 'AB']}, {'Recipient': 'A', 'Donor': ['B', 'AB']}, {'Recipient': 'A', 'Donor': ['AB']}, {'Recipient': 'A', 'Donor': ['B']}, {'Recipient': 'A', 'Donor': ['AB']}, {'Recipient': 'A', 'Donor': ['B', 'AB']}, {'Recipient': 'B', 'Donor': ['A']}, {'Recipient': 'A', 'Donor': ['B', 'AB']}, {'Recipient': 'A', 'Donor': ['B', 'AB']}, {'Recipient': 'B', 'Donor': ['A']}, {'Recipient': 'O', 'Donor': ['A']}, {'Recipient': 'O', 'Donor': ['A', 'B', 'AB']}, {'Recipient': 'B', 'Donor': ['AB']}, {'Recipient': 'A', 'Donor': ['AB']}, {'Recipient': 'A', 'Donor': ['B', 'AB']}, {'Recipient': 'O', 'Donor': ['A', 'B']}, {'Recipient': 'A', 'Donor': ['AB']}, {'Recipient': 'B', 'Donor': ['AB']}, {'Recipient': 'A', 'Donor': ['AB']}, {'Recipient': 'B', 'Donor': ['A', 'AB']}, {'Recipient': 'A', 'Donor': ['B', 'AB']}, {'Recipient': 'A', 'Donor': ['B']}, {'Recipient': 'B', 'Donor': ['A', 'AB']}, {'Recipient': 'A', 'Donor': ['B', 'AB']}, {'Recipient': 'O', 'Donor': ['A', 'AB']}, {'Recipient': 'B', 'Donor': ['AB']}, {'Recipient': 'B', 'Donor': ['A', 'AB']}, {'Recipient': 'B', 'Donor': ['A', 'AB']}, {'Recipient': 'O', 'Donor': ['A', 'B']}, {'Recipient': 'B', 'Donor': ['A', 'AB']}, {'Recipient': 'O', 'Donor': ['A']}, {'Recipient': 'O', 'Donor': ['A', 'B']}, {'Recipient': 'B', 'Donor': ['A', 'AB']}, {'Recipient': 'B', 'Donor': ['A', 'AB']}, {'Recipient': 'A', 'Donor': ['B']}, {'Recipient': 'O', 'Donor': ['B']}, {'Recipient': 'O', 'Donor': ['A', 'AB']}, {'Recipient': 'B', 'Donor': ['AB']}, {'Recipient': 'A', 'Donor': ['B', 'AB']}, {'Recipient': 'B', 'Donor': ['A', 'AB']}, {'Recipient': 'B', 'Donor': ['AB']}, {'Recipient': 'A', 'Donor': ['B', 'AB']}, {'Recipient': 'B', 'Donor': ['A', 'AB']}, {'Recipient': 'A', 'Donor': ['AB']}, {'Recipient': 'O', 'Donor': ['A']}, {'Recipient': 'A', 'Donor': ['B']}, {'Recipient': 'A', 'Donor': ['B']}, {'Recipient': 'O', 'Donor': ['A', 'B', 'AB']}, {'Recipient': 'O', 'Donor': ['A', 'B', 'AB']}, {'Recipient': 'B', 'Donor': ['A', 'AB']}, {'Recipient': 'O', 'Donor': ['A', 'B']}, {'Recipient': 'B', 'Donor': ['A', 'AB']}, {'Recipient': 'A', 'Donor': ['B', 'AB']}, {'Recipient': 'A', 'Donor': ['B', 'AB']}, {'Recipient': 'B', 'Donor': ['A', 'AB']}, {'Recipient': 'A', 'Donor': ['B']}, {'Recipient': 'B', 'Donor': ['A', 'AB']}, {'Recipient': 'B', 'Donor': ['AB']}, {'Recipient': 'A', 'Donor': ['AB']}, {'Recipient': 'B', 'Donor': ['AB']}, {'Recipient': 'B', 'Donor': ['A', 'AB']}, {'Recipient': 'O', 'Donor': ['A', 'B', 'AB']}, {'Recipient': 'O', 'Donor': ['A', 'B', 'AB']}, {'Recipient': 'B', 'Donor': ['A']}, {'Recipient': 'B', 'Donor': ['A', 'AB']}, {'Recipient': 'O', 'Donor': ['A', 'B', 'AB']}, {'Recipient': 'A', 'Donor': ['B']}, {'Recipient': 'B', 'Donor': ['A']}, {'Recipient': 'B', 'Donor': ['A']}, {'Recipient': 'B', 'Donor': ['AB']}, {'Recipient': 'A', 'Donor': ['B', 'AB']}, {'Recipient': 'A', 'Donor': ['B', 'AB']}, {'Recipient': 'B', 'Donor': ['A', 'AB']}, {'Recipient': 'B', 'Donor': ['A']}, {'Recipient': 'B', 'Donor': ['AB']}, {'Recipient': 'B', 'Donor': ['A', 'AB']}, {'Recipient': 'O', 'Donor': ['A', 'B', 'AB']}, {'Recipient': 'O', 'Donor': ['A', 'AB']}, {'Recipient': 'B', 'Donor': ['A', 'AB']}, {'Recipient': 'O', 'Donor': ['A', 'AB']}, {'Recipient': 'B', 'Donor': ['A', 'AB']}, {'Recipient': 'O', 'Donor': ['A', 'B', 'AB']}, {'Recipient': 'B', 'Donor': ['A', 'AB']}, {'Recipient': 'A', 'Donor': ['AB']}, {'Recipient': 'A', 'Donor': ['B', 'AB']}, {'Recipient': 'A', 'Donor': ['B', 'AB']}, {'Recipient': 'B', 'Donor': ['A']}, {'Recipient': 'O', 'Donor': ['A', 'AB']}, {'Recipient': 'O', 'Donor': ['B']}, {'Recipient': 'B', 'Donor': ['AB']}, {'Recipient': 'B', 'Donor': ['A', 'AB']}, {'Recipient': 'O', 'Donor': ['A', 'B', 'AB']}, {'Recipient': 'B', 'Donor': ['A', 'AB']}, {'Recipient': 'B', 'Donor': ['AB']}, {'Recipient': 'A', 'Donor': ['B']}, {'Recipient': 'A', 'Donor': ['B', 'AB']}, {'Recipient': 'A', 'Donor': ['B', 'AB']}, {'Recipient': 'A', 'Donor': ['B']}, {'Recipient': 'B', 'Donor': ['AB']}, {'Recipient': 'O', 'Donor': ['A', 'B', 'AB']}, {'Recipient': 'O', 'Donor': ['A', 'B', 'AB']}, {'Recipient': 'O', 'Donor': ['B', 'AB']}, {'Recipient': 'O', 'Donor': ['A', 'B']}, {'Recipient': 'B', 'Donor': ['A', 'AB']}, {'Recipient': 'B', 'Donor': ['A', 'AB']}, {'Recipient': 'A', 'Donor': ['B', 'AB']}, {'Recipient': 'B', 'Donor': ['A']}, {'Recipient': 'A', 'Donor': ['B']}, {'Recipient': 'O', 'Donor': ['A', 'B']}, {'Recipient': 'B', 'Donor': ['A', 'AB']}, {'Recipient': 'A', 'Donor': ['B', 'AB']}, {'Recipient': 'B', 'Donor': ['A', 'AB']}, {'Recipient': 'B', 'Donor': ['A', 'AB']}, {'Recipient': 'B', 'Donor': ['AB']}]\n"
     ]
    }
   ],
   "source": [
    "#Reading and displaying data file\n",
    "file_path = '/Users/femi/Downloads/VISSTUCODE/transplantationdatasample.json' \n",
    "import json\n",
    "\n",
    "try:\n",
    "    # Open and read the JSON file\n",
    "    with open(file_path, 'r') as file:\n",
    "        data = json.load(file)\n",
    "    print(\"Data Loaded Successfully!\") #confirms data loaded successfully\n",
    "    print(data)  # Print the data \n",
    "\n"
   ]
  },
  {
   "cell_type": "code",
   "execution_count": 12,
   "id": "920182df-0b8a-4b3f-9477-ee6160b4b971",
   "metadata": {},
   "outputs": [
    {
     "name": "stdout",
     "output_type": "stream",
     "text": [
      "Graph created with nodes and edges.\n",
      "No Cycles of Length 3 Found\n"
     ]
    }
   ],
   "source": [
    "# Creating Graph\n",
    "\n",
    "for idx, pair in enumerate(data): #Iterate through each donor-recipient pair in the dataset\n",
    "    \n",
    "    donors = pair[\"Donor\"] if isinstance(pair[\"Donor\"], list) else [pair[\"Donor\"]] #'Donor' and 'Recipient' are treated as lists\n",
    "    recipients = pair[\"Recipient\"] if isinstance(pair[\"Recipient\"], list) else [pair[\"Recipient\"]]\n",
    "\n",
    "    # Adding each donor-recipient pair as a node in the graph, storing their attributes\n",
    "    for donor in donors:\n",
    "        G.add_node(idx, Donor=donor, Recipient=recipients)\n",
    "\n",
    "        # Iterate through all other pairs to determine any compatibility-based edges\n",
    "        for other_idx, other_pair in enumerate(data):\n",
    "            if idx == other_idx:# Skip if its the same donor pair being compared\n",
    "                \n",
    "                continue\n",
    "\n",
    "            \n",
    "            other_recipients = (\n",
    "                other_pair[\"Recipient\"] if isinstance(other_pair[\"Recipient\"], list) else [other_pair[\"Recipient\"]] # 'Recipient' in the other pair is treated as a list if needed\n",
    "            )\n",
    "\n",
    "            # Checking the compatibility between the donor and recipients of other pairs\n",
    "            for other_recipient in other_recipients:\n",
    "                if other_recipient in donor_recipient_compatibility[donor]:\n",
    "                    # Using directed edge from the current donor to the compatible recipient to finalize edges and nodes\n",
    "                    G.add_edge(idx, other_idx)\n"
   ]
  },
  {
   "cell_type": "code",
   "execution_count": 14,
   "id": "d6e31861-0956-4757-b8e5-ef2803db7f11",
   "metadata": {},
   "outputs": [
    {
     "name": "stdout",
     "output_type": "stream",
     "text": [
      "Set parameter Username\n",
      "Academic license - for non-commercial use only - expires 2025-09-15\n",
      "Gurobi Optimizer version 11.0.3 build v11.0.3rc0 (mac64[rosetta2] - Darwin 23.5.0 23F79)\n",
      "\n",
      "CPU model: Apple M2\n",
      "Thread count: 8 physical cores, 8 logical processors, using up to 8 threads\n",
      "\n",
      "Optimize a model with 1450 rows, 186098 columns and 558294 nonzeros\n",
      "Model fingerprint: 0x664e4e06\n",
      "Variable types: 0 continuous, 186098 integer (186098 binary)\n",
      "Coefficient statistics:\n",
      "  Matrix range     [1e+00, 1e+00]\n",
      "  Objective range  [1e+00, 1e+00]\n",
      "  Bounds range     [1e+00, 1e+00]\n",
      "  RHS range        [1e+00, 1e+00]\n",
      "Found heuristic solution: objective -0.0000000\n",
      "Presolve removed 660 rows and 108003 columns\n",
      "Presolve time: 0.28s\n",
      "Presolved: 790 rows, 78095 columns, 156190 nonzeros\n",
      "Variable types: 0 continuous, 78095 integer (78095 binary)\n",
      "\n",
      "Root relaxation: objective 3.700000e+02, 2023 iterations, 0.14 seconds (0.24 work units)\n",
      "\n",
      "    Nodes    |    Current Node    |     Objective Bounds      |     Work\n",
      " Expl Unexpl |  Obj  Depth IntInf | Incumbent    BestBd   Gap | It/Node Time\n",
      "\n",
      "*    0     0               0     370.0000000  370.00000  0.00%     -    0s\n",
      "\n",
      "Explored 1 nodes (2023 simplex iterations) in 0.68 seconds (0.83 work units)\n",
      "Thread count was 8 (of 8 available processors)\n",
      "\n",
      "Solution count 2: 370 -0 \n",
      "\n",
      "Optimal solution found (tolerance 1.00e-04)\n",
      "Best objective 3.700000000000e+02, best bound 3.700000000000e+02, gap 0.0000%\n",
      "Optimization successful!\n",
      "Number of successful matches: 370.0\n"
     ]
    }
   ],
   "source": [
    "# Create Gurobi optimization model\n",
    "model = gp.Model() # define model\n",
    "\n",
    "# Add binary decision variables for each edge in the graph\n",
    "edge_vars = model.addVars(G.edges, vtype=GRB.BINARY, name=\"edge\")\n",
    "\n",
    "# Define the objective function: maximize the total number of matches\n",
    "model.setObjective(gp.quicksum(edge_vars[edge] for edge in G.edges), GRB.MAXIMIZE)\n",
    "\n",
    "# Constraint to ensure each node has at most one incoming edge\n",
    "model.addConstrs(\n",
    "    gp.quicksum(edge_vars[(src, tgt)] for src in G.predecessors(tgt) if (src, tgt) in G.edges) <= 1\n",
    "    for tgt in G.nodes\n",
    ")\n",
    "\n",
    "# Constraints to balance the number of incoming and outgoing edges for each node\n",
    "model.addConstrs(\n",
    "    gp.quicksum(edge_vars[(src, tgt)] for src in G.predecessors(tgt) if (src, tgt) in G.edges) ==\n",
    "    gp.quicksum(edge_vars[(tgt, src)] for src in G.successors(tgt) if (tgt, src) in G.edges)\n",
    "    for tgt in G.nodes\n",
    ")\n",
    "\n",
    "# Solve the optimization problem\n",
    "model.optimize()\n",
    "\n",
    "#Print an optimal solution if one was found\n",
    "if model.status == GRB.OPTIMAL:\n",
    "    print(\"Optimization successful!\")\n",
    "    print(\"Number of successful matches:\", model.objVal)\n",
    "else:\n",
    "    print(\"No optimal solution found.\")\n",
    "\n"
   ]
  },
  {
   "cell_type": "code",
   "execution_count": 15,
   "id": "33da0d39-a4c9-43a9-af28-7103d1bf1557",
   "metadata": {},
   "outputs": [
    {
     "name": "stdout",
     "output_type": "stream",
     "text": [
      "Total Successful Matches: 370.0\n",
      "Match Counts by Blood Type:\n",
      "Blood Type A: 185\n",
      "Blood Type B: 185\n",
      "Blood Type AB: 0\n",
      "Blood Type O: 0\n"
     ]
    }
   ],
   "source": [
    "# Display the number of successful matches\n",
    "print(\"Total Successful Matches:\", model.objVal)\n",
    "\n",
    "# Initialize a dictionary to count matches by blood type\n",
    "match_counts_by_blood_type = {'A': 0, 'B': 0, 'AB': 0, 'O': 0}\n",
    "\n",
    "# Check if the optimization was successful\n",
    "if model.status == GRB.OPTIMAL:\n",
    "    for edge in edge_vars:\n",
    "        if edge_vars[edge].X > 0.5:  # If the edge is part of the solution\n",
    "            donor, recipient = edge\n",
    "            recipient_blood_type = data[recipient]['Recipient']  # Finds blood type of recipient\n",
    "            match_counts_by_blood_type[recipient_blood_type] += 1\n",
    "\n",
    "# Print the match results by blood type\n",
    "print(\"Match Counts by Blood Type:\")\n",
    "for blood_type, count in match_counts_by_blood_type.items():\n",
    "    print(f\"Blood Type {blood_type}: {count}\")\n"
   ]
  },
  {
   "cell_type": "code",
   "execution_count": null,
   "id": "9e83a71c-015c-414e-9820-8c335ad33d5a",
   "metadata": {},
   "outputs": [],
   "source": [
    "import matplotlib.pyplot as plt\n",
    "import networkx as nx\n",
    "\n",
    "\n",
    "# Generate a layout for the graph\n",
    "layout_positions = nx.spring_layout(G)  # You can also use other layouts like circular_layout\n",
    "\n",
    "# Create the plot\n",
    "plt.figure(figsize=(10, 6))\n",
    "nx.draw(\n",
    "    G,\n",
    "    layout_positions,\n",
    "    node_size=400,\n",
    "    node_color='skyblue',\n",
    "    with_labels=True,  # Display node labels\n",
    "    arrows=True,\n",
    "    edge_color='gray'\n",
    ")\n",
    "\n",
    "# Add blood type labels for nodes\n",
    "if any('blood_type' in attr for _, attr in G.nodes(data=True)):\n",
    "    node_labels = {node: attr.get('blood_type', '') for node, attr in G.nodes(data=True)}\n",
    "    nx.draw_networkx_labels(G, layout_positions, labels=node_labels, font_size=8)\n",
    "\n",
    "# Finalize and display the plot\n",
    "plt.title(\"Visualization of Kidney Donation Matching Graph\", fontsize=14)\n",
    "plt.tight_layout()\n",
    "plt.show()\n"
   ]
  }
 ],
 "metadata": {
  "kernelspec": {
   "display_name": "Python 3 (ipykernel)",
   "language": "python",
   "name": "python3"
  },
  "language_info": {
   "codemirror_mode": {
    "name": "ipython",
    "version": 3
   },
   "file_extension": ".py",
   "mimetype": "text/x-python",
   "name": "python",
   "nbconvert_exporter": "python",
   "pygments_lexer": "ipython3",
   "version": "3.9.12"
  }
 },
 "nbformat": 4,
 "nbformat_minor": 5
}
